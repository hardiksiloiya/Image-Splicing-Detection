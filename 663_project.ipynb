{
  "nbformat": 4,
  "nbformat_minor": 0,
  "metadata": {
    "colab": {
      "name": "663_project.ipynb",
      "provenance": [],
      "collapsed_sections": []
    },
    "kernelspec": {
      "name": "python3",
      "display_name": "Python 3"
    },
    "language_info": {
      "name": "python"
    }
  },
  "cells": [
    {
      "cell_type": "code",
      "metadata": {
        "id": "yo-g4PskiDWl"
      },
      "source": [
        "import numpy as np\n",
        "import matplotlib.pyplot as plt\n",
        "import cv2\n",
        "from scipy import signal\n",
        "from scipy import cluster\n",
        "import glob\n",
        "import os\n",
        "import seaborn as sns;"
      ],
      "execution_count": null,
      "outputs": []
    },
    {
      "cell_type": "markdown",
      "metadata": {
        "id": "ojNUlPpBYy9O"
      },
      "source": [
        "# Calculation of Integral image"
      ]
    },
    {
      "cell_type": "code",
      "metadata": {
        "id": "QcdyzXMkmn5A"
      },
      "source": [
        "def g(Im1):\n",
        "    nx = Im1.shape[0]\n",
        "    ny = Im1.shape[1]\n",
        "    \n",
        "    J = np.zeros((4,nx,ny))\n",
        "    for x in range(4):\n",
        "        J[x,:,:] = np.power(Im1,x+1)\n",
        "    \n",
        "    I = np.zeros((4,nx,ny))\n",
        "\n",
        "    for x in range(4):\n",
        "        I[x,0,0] = J[x,0,0]\n",
        "\n",
        "        for i in range(nx):\n",
        "            for j in range(ny):\n",
        "                # I[i,j] = I[i,j-1] + I[i-1,j] - I[i-1,j-1] + J[i,j]\n",
        "                a = 0\n",
        "                b = 0\n",
        "                c = 0\n",
        "\n",
        "                if j > 0:\n",
        "                    a = I[x,i,j-1]\n",
        "                \n",
        "                if i > 0:\n",
        "                    b = I[x,i-1,j]\n",
        "                \n",
        "                if i > 0 and j > 0:\n",
        "                    c = I[x,i-1,j-1]\n",
        "                \n",
        "                I[x,i,j] = a + b - c + J[x,i,j]\n",
        "    \n",
        "    return I\n"
      ],
      "execution_count": null,
      "outputs": []
    },
    {
      "cell_type": "markdown",
      "metadata": {
        "id": "CCzEEwkSY5dN"
      },
      "source": [
        "# Calculation of Kurtosis and noise variance"
      ]
    },
    {
      "cell_type": "code",
      "metadata": {
        "id": "1K9qu6WL_G3F"
      },
      "source": [
        "def h(kurtosis, var):\n",
        "\n",
        "    A = np.mean(np.sqrt(kurtosis) ,axis=0) * np.mean(1/(var*var),axis=0)\n",
        "\n",
        "    B = np.mean( np.sqrt(kurtosis)/var ,axis=0) * np.mean(1/var,axis=0)\n",
        "\n",
        "    C = np.mean(1/(var*var),axis=0)\n",
        "\n",
        "    D = np.mean(1/var,axis=0)**2\n",
        "\n",
        "    kappa = (A - B)/(C - D)\n",
        "\n",
        "    return kappa\n",
        "\n",
        "\n",
        "\n",
        "def noise_var(kurtosis,var,kappa):\n",
        "\n",
        "    A = 1/np.mean(1/var,axis=0)\n",
        "    B = (1/kappa)*(np.mean(np.sqrt(kurtosis),axis=0))/(np.mean(1/var,axis=0))\n",
        "\n",
        "    V = A-B\n",
        "    idx = kappa < np.median(kappa[:])\n",
        "\n",
        "    V[idx] = A[idx]\n",
        "    idx = V < 0\n",
        "    V[idx] = A[idx]\n",
        "\n",
        "    return V"
      ],
      "execution_count": null,
      "outputs": []
    },
    {
      "cell_type": "markdown",
      "metadata": {
        "id": "0_u7UYyLZgdS"
      },
      "source": [
        "# Local variance and Kurtosis calculation"
      ]
    },
    {
      "cell_type": "code",
      "metadata": {
        "id": "mymU5pyyFkiH"
      },
      "source": [
        "def f(I , window , Im1):\n",
        "    var = np.zeros(Im1.shape)\n",
        "    kurtosis = np.zeros(Im1.shape)\n",
        "\n",
        "    for i in range(Im1.shape[0]):\n",
        "        for j in range(Im1.shape[1]):\n",
        "            \n",
        "            u = [0 for j1 in range(4)]\n",
        "\n",
        "            z = int(window/2)\n",
        "            x1 = i - z - 1\n",
        "            x2 = i + z\n",
        "\n",
        "            y1 = j - z - 1\n",
        "            y2 = j + z\n",
        "\n",
        "            nx = I.shape[1]\n",
        "            ny = I.shape[2]\n",
        "            \n",
        "            for j1 in range(4):\n",
        "                                # u_m = a -b -c +d\n",
        "                a = 0\n",
        "                b = 0\n",
        "                c = 0\n",
        "                d = 0\n",
        "\n",
        "                x1 = max(x1,-1)\n",
        "                y1 = max(y1,-1)\n",
        "                x2 = min(x2,nx-1)\n",
        "                y2 = min(y2,ny-1)\n",
        "\n",
        "\n",
        "                if(x1 >= 0 and y1 >= 0):\n",
        "                    d = I[j1,x1,y1]\n",
        "\n",
        "                if x1 >= 0:\n",
        "                    b = I[j1,x1,y2]\n",
        "                \n",
        "                if y1 >= 0:\n",
        "                    c = I[j1,x2,y1]\n",
        "                  \n",
        "                a = I[j1,x2,y2]\n",
        "                  \n",
        "                #print(a,b,c,d)\n",
        "                u[j1] = (a-b-c+d)/abs((x2-x1)*(y2-y1))\n",
        "\n",
        "                \n",
        "            #print(u[0],u[1],u[2],u[3])\n",
        "            kurtosis[i,j] = (u[3]-4*u[2]*u[0] + 6*u[1]*u[0]*u[0] - 3*u[0]**4)/(u[1]**2 - 2*u[1]*u[0]*u[0] + u[0]**4) - 3\n",
        "            var[i,j] = u[1] - u[0]**2\n",
        "\n",
        "\n",
        "    return kurtosis, var"
      ],
      "execution_count": null,
      "outputs": []
    },
    {
      "cell_type": "markdown",
      "metadata": {
        "id": "F_pCI6pgdwrg"
      },
      "source": [
        "# DCT to MATRIX"
      ]
    },
    {
      "cell_type": "code",
      "metadata": {
        "id": "2T3cq3jjykAO"
      },
      "source": [
        "def convert_to_matrix(N):\n",
        "  [cc, rr] = np.meshgrid(np.arange(0,N),np.arange(0,N))\n",
        "  c = np.sqrt(2/N)*np.cos(np.pi *(2*cc + 1)*rr / (2*N))\n",
        "  c[0,:] = c[0,:]/np.sqrt(2)\n",
        "  order = np.arange(N**2)\n",
        "  order = order.reshape((N,N)).transpose()\n",
        " # print(c[0,:].transpose().shape)\n",
        "\n",
        "  output = np.zeros((N*N, N, N))\n",
        "  for i in range(N):\n",
        "    for j in range(N):\n",
        "      output[order[i][j],:,:] = np.matmul(c[i,:].reshape(N,1),c[j,:].reshape(1,N))\n",
        "\n",
        "  return output\n",
        "\n",
        "\n"
      ],
      "execution_count": null,
      "outputs": []
    },
    {
      "cell_type": "markdown",
      "metadata": {
        "id": "iY1LpHjaYh9t"
      },
      "source": [
        "# Directory for testing"
      ]
    },
    {
      "cell_type": "code",
      "metadata": {
        "id": "vAEqwePL-D0a"
      },
      "source": [
        "window = 7\n",
        "K = 8*8\n",
        "\n",
        "for iii in glob.glob(\"images/*.bmp\"):\n",
        "  Im1 = plt.imread(iii)\n",
        "\n",
        "  Im = np.zeros((K,Im1.shape[0],Im1.shape[1]))\n",
        "  Im2 = convert_to_matrix(8)\n",
        "\n",
        "  for k in range(K):\n",
        "    T = signal.convolve2d(Im1,Im2[k,:,:],mode='same')\n",
        "\n",
        "    Im[k,:,:] = T\n",
        "  nx = Im.shape[1]\n",
        "  ny = Im.shape[2]\n",
        "\n",
        "  I = np.zeros((K,4,nx,ny))\n",
        "  Var = np.zeros((K,nx,ny))\n",
        "  kurtosis = np.zeros((K,nx,ny))\n",
        "\n",
        "  for i in range(K):\n",
        "    I[i,:,:] = g(Im[i,:,:])\n",
        "    kurtosis[i,:,:],Var[i,:,:] = f( I[i,:,:], window, Im[i,:,:] )\n",
        "  kurtosis[kurtosis<0] = 0\n",
        "  kappa = h(kurtosis,Var)\n",
        "  noise_variance = noise_var(kurtosis,Var,kappa)\n",
        "  noise_variance=np.log(noise_variance)\n",
        "  plt.imshow(noise_variance,cmap='gray')\n",
        "  plt.imsave('good_spliced_variances/'+os.path.basename(iii)[:-3]+'jpg',noise_variance,cmap='gray')\n",
        "  print(\"done with \"+os.path.basename(iii))\n",
        "  "
      ],
      "execution_count": null,
      "outputs": []
    },
    {
      "cell_type": "markdown",
      "metadata": {
        "id": "WJD9rjW8YDO7"
      },
      "source": [
        "# Test image"
      ]
    },
    {
      "cell_type": "code",
      "metadata": {
        "colab": {
          "base_uri": "https://localhost:8080/",
          "height": 279
        },
        "id": "TSpetGL77TmU",
        "outputId": "00c9f2e1-8a1c-49ac-e639-4aebffc04903"
      },
      "source": [
        "Im1 = plt.imread('/content/AU_T_082.bmp')\n",
        "Im = np.zeros((K,Im1.shape[0],Im1.shape[1]))\n",
        "Im2 = convert_to_matrix(8)\n",
        "for k in range(K):\n",
        "  T = signal.convolve2d(Im1,Im2[k,:,:],mode='same')\n",
        "  Im[k,:,:] = T\n",
        "nx = Im.shape[1]\n",
        "ny = Im.shape[2]\n",
        "I= np.zeros((K,4,nx,ny))\n",
        "Var = np.zeros((K,nx,ny))\n",
        "kurtosis = np.zeros((K,nx,ny))\n",
        "for i in range(K):\n",
        "  I[i,:,:] = g(Im[i,:,:])\n",
        "  kurtosis[i,:,:],Var[i,:,:] = f( I[i,:,:], window, Im[i,:,:] )\n",
        "kurtosis[kurtosis<0] = 0\n",
        "kappa = h(kurtosis,Var)\n",
        "noise_variance = noise_var(kurtosis,Var,kappa)\n",
        "noise_variance=np.log(noise_variance)\n",
        "plt.imshow(noise_variance,cmap='gray')\n",
        "# heat map\n",
        "ax = sns.heatmap(noise_variance,cmap='YlGnBu')"
      ],
      "execution_count": null,
      "outputs": [
        {
          "output_type": "display_data",
          "data": {
            "image/png": "[encoded data removed]",
            "text/plain": [
              "<Figure size 432x288 with 2 Axes>"
            ]
          },
          "metadata": {
            "needs_background": "light"
          }
        }
      ]
    },
    {
      "cell_type": "markdown",
      "metadata": {
        "id": "-itXZa-9aGsb"
      },
      "source": [
        "# K means"
      ]
    },
    {
      "cell_type": "code",
      "metadata": {
        "id": "PnjiCkizwyCz"
      },
      "source": [
        "X1 = noise_variance.reshape((nx*ny,1))\n",
        "Y1 = cluster.vq.kmeans2(X1,2)\n",
        "\n",
        "\n",
        "plt.imshow(Y1[1].reshape((nx,ny)))"
      ],
      "execution_count": null,
      "outputs": []
    }
  ]
}